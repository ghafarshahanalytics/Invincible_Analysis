{
 "cells": [
  {
   "cell_type": "markdown",
   "id": "6d22efe5-2892-4d3a-b091-53dd648f304f",
   "metadata": {},
   "source": [
    "ChatGPT is the source of this Python web scraping script :D"
   ]
  },
  {
   "cell_type": "code",
   "execution_count": 1,
   "id": "7e0847b0-20fe-4d28-a788-2f0a6373c13c",
   "metadata": {},
   "outputs": [],
   "source": [
    "from selenium import webdriver\n",
    "from selenium.webdriver.common.by import By\n",
    "from selenium.webdriver.support.ui import WebDriverWait\n",
    "from selenium.webdriver.support import expected_conditions as EC\n",
    "from bs4 import BeautifulSoup\n",
    "import time"
   ]
  },
  {
   "cell_type": "code",
   "execution_count": 2,
   "id": "6f7ea015-22ba-42e9-b586-e585fdca0fa4",
   "metadata": {},
   "outputs": [],
   "source": [
    "\n",
    "# Set up Selenium webdriver\n",
    "driver = webdriver.Chrome()  # You can use other drivers like Firefox as well\n",
    "driver.get(\"https://www.imdb.com/title/tt6741278/reviews?ref_=tt_urv\")\n"
   ]
  },
  {
   "cell_type": "code",
   "execution_count": 3,
   "id": "f78e42e1-f165-4c40-8fc5-7b086630a4de",
   "metadata": {},
   "outputs": [],
   "source": [
    "# Function to click the \"Load More\" button\n",
    "def click_load_more():\n",
    "    try:\n",
    "        load_more_button = WebDriverWait(driver, 10).until(\n",
    "            EC.presence_of_element_located((By.CLASS_NAME, \"ipl-load-more__button\"))\n",
    "        )\n",
    "        load_more_button.click()\n",
    "        time.sleep(2)  # Add a short delay to allow new reviews to load\n",
    "        return True\n",
    "    except:\n",
    "        return False"
   ]
  },
  {
   "cell_type": "code",
   "execution_count": 4,
   "id": "349b2615-5d7c-40b1-be9e-bd1183f1b83a",
   "metadata": {},
   "outputs": [],
   "source": [
    "# Main function to scrape reviews\n",
    "def scrape_reviews():\n",
    "    while True:\n",
    "        if not click_load_more():\n",
    "            break\n",
    "\n",
    "    # Once all reviews are loaded, parse the page with BeautifulSoup\n",
    "    soup = BeautifulSoup(driver.page_source, 'html.parser')\n",
    "    reviews = soup.find_all(\"div\", class_=\"text show-more__control\")\n",
    "\n",
    "    # Extract review text and store in a list\n",
    "    review_texts = [review.get_text() for review in reviews]\n",
    "\n",
    "    return review_texts"
   ]
  },
  {
   "cell_type": "code",
   "execution_count": 5,
   "id": "a3cc93ad-305e-496b-ad9c-cfe67539ed2c",
   "metadata": {},
   "outputs": [],
   "source": [
    "# Call the main function to scrape reviews\n",
    "reviews_data = scrape_reviews()"
   ]
  },
  {
   "cell_type": "code",
   "execution_count": 7,
   "id": "db50f2f5-6f3b-41a6-9d76-225ddc8d3527",
   "metadata": {},
   "outputs": [],
   "source": [
    "import pandas as pd"
   ]
  },
  {
   "cell_type": "code",
   "execution_count": 8,
   "id": "4717042c-f5e4-4796-a268-37f57c60502b",
   "metadata": {},
   "outputs": [],
   "source": [
    "# Create a DataFrame to store the reviews data\n",
    "df = pd.DataFrame({'Review': reviews_data})"
   ]
  },
  {
   "cell_type": "code",
   "execution_count": 9,
   "id": "80e36f3e-f024-43a9-89b0-deca3f7fd084",
   "metadata": {},
   "outputs": [
    {
     "data": {
      "text/html": [
       "<div>\n",
       "<style scoped>\n",
       "    .dataframe tbody tr th:only-of-type {\n",
       "        vertical-align: middle;\n",
       "    }\n",
       "\n",
       "    .dataframe tbody tr th {\n",
       "        vertical-align: top;\n",
       "    }\n",
       "\n",
       "    .dataframe thead th {\n",
       "        text-align: right;\n",
       "    }\n",
       "</style>\n",
       "<table border=\"1\" class=\"dataframe\">\n",
       "  <thead>\n",
       "    <tr style=\"text-align: right;\">\n",
       "      <th></th>\n",
       "      <th>Review</th>\n",
       "    </tr>\n",
       "  </thead>\n",
       "  <tbody>\n",
       "    <tr>\n",
       "      <th>0</th>\n",
       "      <td>My favorite terrible review here is the guy co...</td>\n",
       "    </tr>\n",
       "    <tr>\n",
       "      <th>1</th>\n",
       "      <td>Invincible really increases the standards in a...</td>\n",
       "    </tr>\n",
       "    <tr>\n",
       "      <th>2</th>\n",
       "      <td>I think I'm gonna like this show. Violent, irr...</td>\n",
       "    </tr>\n",
       "    <tr>\n",
       "      <th>3</th>\n",
       "      <td>I have no clue of the source material but happ...</td>\n",
       "    </tr>\n",
       "    <tr>\n",
       "      <th>4</th>\n",
       "      <td>I watched the first episode and after the endi...</td>\n",
       "    </tr>\n",
       "    <tr>\n",
       "      <th>...</th>\n",
       "      <td>...</td>\n",
       "    </tr>\n",
       "    <tr>\n",
       "      <th>743</th>\n",
       "      <td>Superhero cartoon for adults with a lot of vio...</td>\n",
       "    </tr>\n",
       "    <tr>\n",
       "      <th>744</th>\n",
       "      <td>Watched one episode and came out traumatized. ...</td>\n",
       "    </tr>\n",
       "    <tr>\n",
       "      <th>745</th>\n",
       "      <td>Enjoyed the series, but the one-eyed cyborg fi...</td>\n",
       "    </tr>\n",
       "    <tr>\n",
       "      <th>746</th>\n",
       "      <td>Weird to see here the comparisons, I don't und...</td>\n",
       "    </tr>\n",
       "    <tr>\n",
       "      <th>747</th>\n",
       "      <td>For now I give it an 8, which for me is unusua...</td>\n",
       "    </tr>\n",
       "  </tbody>\n",
       "</table>\n",
       "<p>748 rows × 1 columns</p>\n",
       "</div>"
      ],
      "text/plain": [
       "                                                Review\n",
       "0    My favorite terrible review here is the guy co...\n",
       "1    Invincible really increases the standards in a...\n",
       "2    I think I'm gonna like this show. Violent, irr...\n",
       "3    I have no clue of the source material but happ...\n",
       "4    I watched the first episode and after the endi...\n",
       "..                                                 ...\n",
       "743  Superhero cartoon for adults with a lot of vio...\n",
       "744  Watched one episode and came out traumatized. ...\n",
       "745  Enjoyed the series, but the one-eyed cyborg fi...\n",
       "746  Weird to see here the comparisons, I don't und...\n",
       "747  For now I give it an 8, which for me is unusua...\n",
       "\n",
       "[748 rows x 1 columns]"
      ]
     },
     "execution_count": 9,
     "metadata": {},
     "output_type": "execute_result"
    }
   ],
   "source": [
    "df"
   ]
  },
  {
   "cell_type": "code",
   "execution_count": 10,
   "id": "6679152c-a093-4c80-bb78-68fa7caef7e4",
   "metadata": {},
   "outputs": [
    {
     "name": "stdout",
     "output_type": "stream",
     "text": [
      "CSV file exported successfully.\n"
     ]
    }
   ],
   "source": [
    "# Export DataFrame to CSV\n",
    "df.to_csv('invincible_reviews_subset.csv', index=False)\n",
    "\n",
    "print(\"CSV file exported successfully.\")"
   ]
  }
 ],
 "metadata": {
  "kernelspec": {
   "display_name": "Python 3 (ipykernel)",
   "language": "python",
   "name": "python3"
  },
  "language_info": {
   "codemirror_mode": {
    "name": "ipython",
    "version": 3
   },
   "file_extension": ".py",
   "mimetype": "text/x-python",
   "name": "python",
   "nbconvert_exporter": "python",
   "pygments_lexer": "ipython3",
   "version": "3.9.6"
  }
 },
 "nbformat": 4,
 "nbformat_minor": 5
}
